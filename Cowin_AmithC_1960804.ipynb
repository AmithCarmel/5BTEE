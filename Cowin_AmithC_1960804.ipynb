{
  "nbformat": 4,
  "nbformat_minor": 0,
  "metadata": {
    "colab": {
      "name": "Cowin.AmithC.1960804.ipynb",
      "provenance": [],
      "collapsed_sections": [],
      "authorship_tag": "ABX9TyODEh/Cn0CNjzX0Y3KLc1Oj",
      "include_colab_link": true
    },
    "kernelspec": {
      "name": "python3",
      "display_name": "Python 3"
    },
    "language_info": {
      "name": "python"
    }
  },
  "cells": [
    {
      "cell_type": "markdown",
      "metadata": {
        "id": "view-in-github",
        "colab_type": "text"
      },
      "source": [
        "<a href=\"https://colab.research.google.com/github/AmithCarmel/5BTEE/blob/main/Cowin_AmithC_1960804.ipynb\" target=\"_parent\"><img src=\"https://colab.research.google.com/assets/colab-badge.svg\" alt=\"Open In Colab\"/></a>"
      ]
    },
    {
      "cell_type": "code",
      "metadata": {
        "id": "7GxDDw3gshcT"
      },
      "source": [
        "import requests\n",
        "import smtplib\n",
        "import datetime\n",
        "\n",
        "d=datetime.datetime.today().strftime('%d-%m-%Y')\n",
        "\n",
        "# 18 or 45\n",
        "age=18    \n",
        "\n",
        "# No of people                                                  \n",
        "tot=3 \n",
        "\n",
        "# Type of vaccination : COVISHIELD, COVAXIN ...                                                \n",
        "vacc=\"COVAXIN\"\n",
        "\n",
        "# Pincodes list \n",
        "pincodes=['560068', '560017', '560118','560116','560082']\n",
        "\n",
        "FromEmail=\"anthonypj522@gmail.com\"    # From Email ID inside double quote\n",
        "FromEmailPass=\"Anthony@1234\"         # From Email ID password inside double quote\n",
        "ToEmail=\"amith.carmel@btech.christuniversity.in\"  # To Email ID inside double quote\n",
        "\n",
        "\n",
        "message = \"\"\"From: {FromEmail}\n",
        "To: {ToEmail}\n",
        "Subject: Vaccine Available\n",
        "\"\"\"\n",
        "c=0\n",
        "for k in range(len(pincodes)):\n",
        "  response = requests.get(\"https://cdn-api.co-vin.in/api/v2/appointment/sessions/public/calendarByPin?pincode=\"+str(pincodes[k])+\"&date=\"+str(d))\n",
        "  for i in range(len(response.json()[\"centers\"])):\n",
        "    for j in range(len(response.json()[\"centers\"][i-1][\"sessions\"])):\n",
        "      if (response.json()[\"centers\"][i-1][\"sessions\"][j-1][\"min_age_limit\"]==age and response.json()[\"centers\"][i-1][\"sessions\"][j-1][\"vaccine\"]==vacc and response.json()[\"centers\"][i-1][\"sessions\"][j-1][\"available_capacity\"] >=tot):\n",
        "        print(response.json()[\"centers\"][i-1][\"name\"])\n",
        "        print(response.json()[\"centers\"][i-1][\"sessions\"][j-1][\"session_id\"])\n",
        "        print(response.json()[\"centers\"][i-1][\"sessions\"][j-1][\"available_capacity\"])\n",
        "        print(response.json()[\"centers\"][i-1][\"sessions\"][j-1][\"min_age_limit\"])\n",
        "        print(response.json()[\"centers\"][i-1][\"sessions\"][j-1][\"vaccine\"])\n",
        "        s = smtplib.SMTP ('smtp.gmail.com', 587)\n",
        "        s.starttls()\n",
        "        s.login(FromEmail, FromEmailPass)\n",
        "        str1=response.json()[\"centers\"][i-1][\"name\"]\n",
        "        str2=response.json()[\"centers\"][i-1][\"sessions\"][j-1][\"available_capacity\"]\n",
        "        message= (message+ \"\\n\" +\t\"Center name : \" + str1 + \"\\n\"+\"Available :\" + str(str2) + \"\\n\")\n",
        "        c=1\n",
        "\n",
        "if (c==1):\n",
        "  s.sendmail(FromEmail, ToEmail, message)\n",
        "  print('Email sent to '+ToEmail+' From '+FromEmail)\n",
        "  s.quit()"
      ],
      "execution_count": null,
      "outputs": []
    }
  ]
}